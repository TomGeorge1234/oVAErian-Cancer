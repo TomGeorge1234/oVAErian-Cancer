{
 "cells": [
  {
   "cell_type": "code",
   "execution_count": 1,
   "metadata": {},
   "outputs": [
    {
     "name": "stderr",
     "output_type": "stream",
     "text": [
      "Using TensorFlow backend.\n"
     ]
    }
   ],
   "source": [
    "import numpy as np\n",
    "import matplotlib.pyplot as plt\n",
    "import pandas as pd\n",
    "\n",
    "import tensorflow as tf\n",
    "from keras.layers import Input, Dense, Lambda, Layer, Activation\n",
    "from keras.layers.normalization import BatchNormalization\n",
    "from keras.models import Model\n",
    "from keras import backend as K\n",
    "from keras import metrics, optimizers\n",
    "\n",
    "import seaborn as sns\n",
    "from scipy.stats import ks_2samp\n",
    "from statsmodels.stats.multitest import multipletests"
   ]
  },
  {
   "cell_type": "code",
   "execution_count": 2,
   "metadata": {},
   "outputs": [],
   "source": [
    "gene_correlation = 0.8\n",
    "latent_dim = 5\n",
    "epochs = 50\n",
    "batch_size = 50\n",
    "learning_rate = 0.001\n",
    "\n",
    "activation = 'sigmoid'"
   ]
  },
  {
   "cell_type": "code",
   "execution_count": 3,
   "metadata": {},
   "outputs": [],
   "source": [
    "x = pd.read_table('./Data/Ov_Cancer_mRNA.txt', index_col=0)\n",
    "starting_genes = np.load('./Data/Lists/gene_list_'+str(gene_correlation)+'.npy')\n",
    "x = x.iloc[starting_genes].T \n",
    "x = (x - np.min(x))/(np.max(x) - np.min(x))"
   ]
  },
  {
   "cell_type": "code",
   "execution_count": 4,
   "metadata": {},
   "outputs": [
    {
     "name": "stdout",
     "output_type": "stream",
     "text": [
      "                  ABL1    ALKBH2    ALKBH3     APEX1     APEX2      APLF  \\\n",
      "TCGA.61.1917  0.433569  0.784358  0.660404  0.619420  0.490660  0.684342   \n",
      "TCGA.24.2038  0.619225  0.746032  0.653653  0.380328  0.303752  0.565547   \n",
      "TCGA.09.2048  0.278142  0.976105  0.658688  0.547734  0.479630  0.542460   \n",
      "TCGA.04.1362  0.873346  0.362670  0.738334  0.257347  0.497800  0.486140   \n",
      "TCGA.25.2391  0.373909  0.346528  0.559372  0.352229  0.671173  0.498429   \n",
      "\n",
      "                  APTX     ATAD5       ATM     ATRIP    ...         XAB2  \\\n",
      "TCGA.61.1917  0.582068  0.593892  0.399202  0.000000    ...     0.340096   \n",
      "TCGA.24.2038  0.339484  0.313406  0.485077  0.502339    ...     0.424211   \n",
      "TCGA.09.2048  0.783500  0.616759  0.612194  0.287584    ...     0.376187   \n",
      "TCGA.04.1362  0.305714  0.596782  0.492696  0.332279    ...     0.316592   \n",
      "TCGA.25.2391  0.632493  0.472561  0.455709  0.441141    ...     0.143704   \n",
      "\n",
      "                   XPA       XPC     XRCC1     XRCC2     XRCC3     XRCC4  \\\n",
      "TCGA.61.1917  0.416924  0.185362  0.456271  0.678630  0.279168  0.448034   \n",
      "TCGA.24.2038  0.701999  0.779489  0.364146  0.343456  0.140187  0.434846   \n",
      "TCGA.09.2048  0.526354  0.517005  0.231163  0.688671  0.253049  1.000000   \n",
      "TCGA.04.1362  0.961295  0.537635  0.254002  0.778315  0.321639  0.353198   \n",
      "TCGA.25.2391  0.805806  0.520632  0.522185  0.626813  0.331139  0.401006   \n",
      "\n",
      "                 XRCC5     XRCC6    ZSWIM7  \n",
      "TCGA.61.1917  0.616407  0.639482  0.439147  \n",
      "TCGA.24.2038  0.349846  0.560904  0.579381  \n",
      "TCGA.09.2048  0.918071  0.577560  1.000000  \n",
      "TCGA.04.1362  0.439109  0.433218  0.502133  \n",
      "TCGA.25.2391  0.500435  0.398055  0.393352  \n",
      "\n",
      "[5 rows x 243 columns]\n"
     ]
    }
   ],
   "source": [
    "train_percent = 0.6\n",
    "x_train = x.head(int((train_percent)*len(x)))\n",
    "x_test = x.tail(len(x)-int((train_percent)*len(x)))\n",
    "original_dim = x.shape[1]\n",
    "print(x_train.head(5)) #patients go down the left, genes run across"
   ]
  },
  {
   "cell_type": "code",
   "execution_count": 5,
   "metadata": {},
   "outputs": [],
   "source": [
    "def sampling(args):\n",
    "    z_mean, z_log_var = args\n",
    "    epsilon = K.random_normal(shape=tf.shape(z_mean), mean=0.,\n",
    "                              stddev=1)\n",
    "    z = z_mean + K.exp(z_log_var / 2) * epsilon\n",
    "    return z"
   ]
  },
  {
   "cell_type": "code",
   "execution_count": 6,
   "metadata": {},
   "outputs": [],
   "source": [
    "class CustomVariationalLayer(Layer):\n",
    "    def __init__(self, **kwargs):\n",
    "        # https://keras.io/layers/writing-your-own-keras-layers/\n",
    "        self.is_placeholder = True\n",
    "        super(CustomVariationalLayer, self).__init__(**kwargs)\n",
    "\n",
    "    def vae_loss(self, x_input, x_decoded):\n",
    "        reconstruction_loss = original_dim * metrics.binary_crossentropy(x_input, x_decoded)\n",
    "        kl_loss = - 0.5 * K.sum(1 + z_log_var_encoded - K.square(z_mean_encoded) - \n",
    "                                K.exp(z_log_var_encoded), axis=-1)\n",
    "        return K.mean(reconstruction_loss + kl_loss)\n",
    "\n",
    "    def call(self, inputs):\n",
    "        x = inputs[0]\n",
    "        x_decoded = inputs[1]\n",
    "        loss = self.vae_loss(x, x_decoded)\n",
    "        self.add_loss(loss, inputs=inputs)\n",
    "        # We won't actually use the output.\n",
    "        return x"
   ]
  },
  {
   "cell_type": "code",
   "execution_count": 7,
   "metadata": {},
   "outputs": [],
   "source": [
    "mRNA_input = Input(shape=(original_dim, ))\n",
    "\n",
    "z_mean_dense_linear = Dense(latent_dim, kernel_initializer='glorot_uniform')(mRNA_input)\n",
    "z_mean_dense_batchnorm = BatchNormalization()(z_mean_dense_linear)\n",
    "z_mean_encoded = Activation(activation)(z_mean_dense_batchnorm)\n",
    "\n",
    "z_log_var_dense_linear = Dense(latent_dim, kernel_initializer='glorot_uniform')(mRNA_input)\n",
    "z_log_var_dense_batchnorm = BatchNormalization()(z_log_var_dense_linear)\n",
    "z_log_var_encoded = Activation(activation)(z_log_var_dense_batchnorm)\n",
    "\n",
    "z = Lambda(sampling, output_shape=(latent_dim, ))([z_mean_encoded, z_log_var_encoded])"
   ]
  },
  {
   "cell_type": "code",
   "execution_count": 8,
   "metadata": {},
   "outputs": [],
   "source": [
    "decoder_to_reconstruct = Dense(original_dim, kernel_initializer='glorot_uniform', activation='sigmoid')\n",
    "rnaseq_reconstruct = decoder_to_reconstruct(z)"
   ]
  },
  {
   "cell_type": "code",
   "execution_count": 9,
   "metadata": {},
   "outputs": [],
   "source": [
    "adam = optimizers.Adam(lr=learning_rate)\n",
    "vae_layer = CustomVariationalLayer()([mRNA_input, rnaseq_reconstruct])\n",
    "vae = Model(mRNA_input, vae_layer)\n",
    "vae.compile(optimizer=adam, loss=None)"
   ]
  },
  {
   "cell_type": "code",
   "execution_count": 10,
   "metadata": {},
   "outputs": [
    {
     "name": "stdout",
     "output_type": "stream",
     "text": [
      "Training complete\n"
     ]
    }
   ],
   "source": [
    "hist = vae.fit(np.array(x_train),\n",
    "               shuffle=True,\n",
    "               epochs=epochs,\n",
    "               verbose=0,\n",
    "               batch_size=batch_size,\n",
    "               validation_data=(np.array(x_test), None),\n",
    "               callbacks=[])\n",
    "print(\"Training complete\")"
   ]
  },
  {
   "cell_type": "code",
   "execution_count": 11,
   "metadata": {},
   "outputs": [
    {
     "data": {
      "text/plain": [
       "<matplotlib.legend.Legend at 0x1a2324ed30>"
      ]
     },
     "execution_count": 11,
     "metadata": {},
     "output_type": "execute_result"
    },
    {
     "data": {
      "image/png": "[encoded data removed]",
      "text/plain": [
       "<Figure size 432x288 with 1 Axes>"
      ]
     },
     "metadata": {},
     "output_type": "display_data"
    }
   ],
   "source": [
    "plt.subplots()\n",
    "plt.plot(hist.history[\"val_loss\"], color='r', label='Validation loss')\n",
    "plt.plot(hist.history[\"loss\"], color='r',alpha = 0.6, label='Loss')\n",
    "plt.xlabel('Epochs')\n",
    "plt.ylabel(r'VAE Loss')\n",
    "plt.legend(bbox_to_anchor=(1.01, 1), loc=2)"
   ]
  },
  {
   "cell_type": "code",
   "execution_count": 12,
   "metadata": {},
   "outputs": [],
   "source": [
    "encoder = Model(mRNA_input, z_mean_encoded)\n",
    "z = encoder.predict_on_batch(x_test)\n",
    "z = pd.DataFrame(z, index=x_test.index)\n",
    "z.columns = z.columns + 1"
   ]
  },
  {
   "cell_type": "code",
   "execution_count": 13,
   "metadata": {},
   "outputs": [],
   "source": [
    "decoder_input = Input(shape=(latent_dim, ))  # can generate from any sampled z vector\n",
    "_x_decoded_mean = decoder_to_reconstruct(decoder_input)\n",
    "decoder = Model(decoder_input, _x_decoded_mean)"
   ]
  },
  {
   "cell_type": "code",
   "execution_count": 14,
   "metadata": {},
   "outputs": [
    {
     "data": {
      "image/png": "[encoded data removed]",
      "text/plain": [
       "<Figure size 432x432 with 3 Axes>"
      ]
     },
     "metadata": {},
     "output_type": "display_data"
    }
   ],
   "source": [
    "x_reconstruct = decoder.predict(np.array(z))\n",
    "x_reconstruct = pd.DataFrame(x_reconstruct, index=x_test.index,\n",
    "                                        columns=x_test.columns)\n",
    "\n",
    "reconstruction_fidelity = x_test - x_reconstruct\n",
    "gene_mean = reconstruction_fidelity.mean(axis=0)\n",
    "gene_abssum = reconstruction_fidelity.abs().sum(axis=0).divide(x_test.shape[0])\n",
    "gene_summary = pd.DataFrame([gene_mean, gene_abssum], index=['Error mean', 'Error norm(abs(sum))']).T\n",
    "gene_summary.sort_values(by='Error norm(abs(sum))', ascending=False).head()\n",
    "\n",
    "# Mean of gene reconstruction vs. absolute reconstructed difference per sample\n",
    "sns.jointplot('Error mean', 'Error norm(abs(sum))', data=gene_summary, stat_func=None);"
   ]
  },
  {
   "cell_type": "code",
   "execution_count": 15,
   "metadata": {},
   "outputs": [
    {
     "name": "stdout",
     "output_type": "stream",
     "text": [
      "Truth:\n",
      "                  ABL1    ALKBH2    ALKBH3     APEX1     APEX2      APLF  \\\n",
      "TCGA.OY.A56Q  0.768175  0.399319  0.135295  0.351062  0.293825  0.466606   \n",
      "TCGA.09.0369  0.723874  0.838585  0.702325  0.479283  0.485294  0.610629   \n",
      "TCGA.24.1604  0.337172  0.446858  0.606943  0.419579  0.417953  0.593616   \n",
      "TCGA.OY.A56P  0.795992  0.459675  0.409369  0.152685  0.319990  0.665252   \n",
      "TCGA.25.1321  0.514001  0.286497  0.660963  0.747176  0.322736  0.710387   \n",
      "\n",
      "                  APTX     ATAD5       ATM     ATRIP    ...         XAB2  \\\n",
      "TCGA.OY.A56Q  0.776648  0.588428  0.578629  0.510254    ...     0.267477   \n",
      "TCGA.09.0369  0.454361  0.579622  0.280786  0.655343    ...     0.460457   \n",
      "TCGA.24.1604  0.304356  0.428151  0.674499  0.371638    ...     0.475391   \n",
      "TCGA.OY.A56P  0.579958  0.860630  1.000000  0.578148    ...     0.929957   \n",
      "TCGA.25.1321  0.222233  0.610743  0.570499  0.114298    ...     0.315718   \n",
      "\n",
      "                   XPA       XPC     XRCC1     XRCC2     XRCC3     XRCC4  \\\n",
      "TCGA.OY.A56Q  0.181068  0.685333  0.858606  0.562944  0.000000  0.582172   \n",
      "TCGA.09.0369  0.483129  0.342292  0.581551  0.545096  0.424011  0.534373   \n",
      "TCGA.24.1604  0.489112  0.544326  0.241760  0.499050  0.239795  0.437948   \n",
      "TCGA.OY.A56P  0.000000  0.817107  0.474407  0.753043  0.218529  0.674932   \n",
      "TCGA.25.1321  0.386382  0.390491  0.411610  0.635681  0.220824  0.532394   \n",
      "\n",
      "                 XRCC5     XRCC6    ZSWIM7  \n",
      "TCGA.OY.A56Q  0.692506  0.412055  0.385135  \n",
      "TCGA.09.0369  0.295286  0.503682  0.621732  \n",
      "TCGA.24.1604  0.593600  0.505218  0.440708  \n",
      "TCGA.OY.A56P  0.720789  0.310601  0.702764  \n",
      "TCGA.25.1321  0.383306  0.473628  0.603390  \n",
      "\n",
      "[5 rows x 243 columns]\n",
      "Reconstructed truth:\n",
      "                  ABL1    ALKBH2    ALKBH3     APEX1     APEX2      APLF  \\\n",
      "TCGA.OY.A56Q  0.548402  0.488232  0.538489  0.400094  0.481397  0.577309   \n",
      "TCGA.09.0369  0.548983  0.487715  0.537661  0.395599  0.485615  0.578952   \n",
      "TCGA.24.1604  0.551205  0.483884  0.540563  0.385145  0.480888  0.582342   \n",
      "TCGA.OY.A56P  0.553222  0.488025  0.539479  0.387145  0.481957  0.589036   \n",
      "TCGA.25.1321  0.551324  0.486756  0.539059  0.390304  0.481776  0.582794   \n",
      "\n",
      "                  APTX     ATAD5       ATM     ATRIP    ...         XAB2  \\\n",
      "TCGA.OY.A56Q  0.465912  0.519696  0.472552  0.468847    ...     0.392426   \n",
      "TCGA.09.0369  0.474593  0.523840  0.469399  0.470190    ...     0.403411   \n",
      "TCGA.24.1604  0.464717  0.515594  0.469821  0.459023    ...     0.381028   \n",
      "TCGA.OY.A56P  0.465498  0.525030  0.471304  0.470753    ...     0.388274   \n",
      "TCGA.25.1321  0.465982  0.520799  0.470813  0.466690    ...     0.388442   \n",
      "\n",
      "                   XPA       XPC     XRCC1     XRCC2     XRCC3     XRCC4  \\\n",
      "TCGA.OY.A56Q  0.532334  0.471449  0.437738  0.596759  0.384765  0.538033   \n",
      "TCGA.09.0369  0.531352  0.469517  0.431638  0.586242  0.399835  0.540323   \n",
      "TCGA.24.1604  0.538239  0.472466  0.427974  0.602020  0.375341  0.541200   \n",
      "TCGA.OY.A56P  0.532073  0.468475  0.432919  0.600001  0.378287  0.543697   \n",
      "TCGA.25.1321  0.534054  0.470575  0.432279  0.598412  0.380567  0.540815   \n",
      "\n",
      "                 XRCC5     XRCC6    ZSWIM7  \n",
      "TCGA.OY.A56Q  0.452028  0.487510  0.502709  \n",
      "TCGA.09.0369  0.455035  0.492820  0.504822  \n",
      "TCGA.24.1604  0.445079  0.485373  0.501796  \n",
      "TCGA.OY.A56P  0.453295  0.488070  0.501331  \n",
      "TCGA.25.1321  0.450620  0.487405  0.502191  \n",
      "\n",
      "[5 rows x 243 columns]\n"
     ]
    }
   ],
   "source": [
    "print('Truth:')\n",
    "print(x_test.head(5))\n",
    "print('Reconstructed truth:')\n",
    "print(x_reconstruct.head(5))"
   ]
  },
  {
   "cell_type": "code",
   "execution_count": 16,
   "metadata": {},
   "outputs": [],
   "source": [
    "resistant_patients = np.load('./Data/Lists/resistant_patients.npy')\n",
    "present_resistant_patients = np.intersect1d(resistant_patients,x_test.index.values)\n",
    "sensitive_patients = np.load('./Data/Lists/sensitive_patients.npy')\n",
    "present_sensitive_patients = np.intersect1d(sensitive_patients,x_test.index.values)"
   ]
  },
  {
   "cell_type": "code",
   "execution_count": 17,
   "metadata": {},
   "outputs": [],
   "source": [
    "p_values = np.empty((latent_dim))\n",
    "for i in range(latent_dim):\n",
    "    latent_var_list = z.iloc[:,i]\n",
    "    r = latent_var_list.reindex(present_resistant_patients).values\n",
    "    s = latent_var_list.reindex(present_sensitive_patients).values\n",
    "    p_values[i] = ks_2samp(r,s)[1]\n",
    "adjusted_p_values = multipletests(p_values, method='fdr_bh', alpha=0.25)[1]\n",
    "significant_list = (adjusted_p_values < 0.25)\n",
    "significant_LVs = np.array([p_values,np.arange(latent_dim)]).T[np.array([p_values,np.arange(latent_dim)])[0].argsort()].T[1][:sum(significant_list)].astype(int)"
   ]
  },
  {
   "cell_type": "code",
   "execution_count": 23,
   "metadata": {},
   "outputs": [
    {
     "name": "stdout",
     "output_type": "stream",
     "text": [
      "Number of significant latent variables found: 1\n",
      "The latent space performance (LSP) was caluclated to be: 6.398\n",
      "The best latent variable (LV 1) seperates platinum resistant patients from sensitive patients with a p value of 0.04080\n"
     ]
    },
    {
     "data": {
      "image/png": "[encoded data removed]",
      "text/plain": [
       "<Figure size 432x288 with 1 Axes>"
      ]
     },
     "metadata": {},
     "output_type": "display_data"
    }
   ],
   "source": [
    "if len(significant_LVs) == 0:\n",
    "    print(\"None of the latent variables were found to be significant, please try again.\")\n",
    "\n",
    "else:\n",
    "    plotdata = []\n",
    "    for i in range(len(significant_LVs)):\n",
    "        plotdata = np.append(plotdata,z.iloc[:,significant_LVs[i]].reindex(present_resistant_patients).values)\n",
    "        plotdata = np.append(plotdata,z.iloc[:,significant_LVs[i]].reindex(present_sensitive_patients).values)\n",
    "    plotvariables = []\n",
    "    for i in range(len(significant_LVs)):\n",
    "        plotvariables = np.append(plotvariables,[int(significant_LVs[i]+1)]*len(z.iloc[:,significant_LVs[i]].reindex(present_resistant_patients).values))\n",
    "        plotvariables = np.append(plotvariables,[int(significant_LVs[i]+1)]*len(z.iloc[:,significant_LVs[i]].reindex(present_sensitive_patients).values))\n",
    "    plotlabels = []\n",
    "    for i in range(len(significant_LVs)):\n",
    "        plotlabels = np.append(plotlabels,['Resistant']*len(z.iloc[:,significant_LVs[i]].reindex(present_resistant_patients).values))\n",
    "        plotlabels = np.append(plotlabels,['Sensitive']*len(z.iloc[:,significant_LVs[i]].reindex(present_sensitive_patients).values))\n",
    "    \n",
    "    df = pd.DataFrame([plotdata,plotvariables,plotlabels]).T\n",
    "    df.columns=['Activation','VAE Latent Dimension','Classification']\n",
    "    df['Activation']=df['Activation'].astype(float)\n",
    "    \n",
    "    latent_variable_figure = plt.subplots()\n",
    "    ax = sns.boxplot(x='VAE Latent Dimension', y='Activation', hue='Classification', data = df, palette=sns.color_palette([\"#df5353\", \"#5fd35f\"]))\n",
    "    ax = sns.swarmplot(x='VAE Latent Dimension', y='Activation', hue='Classification', dodge=True, data = df, palette=sns.color_palette([\"#d62728\", \"#2ca02c\"]))\n",
    "    handles, labels = ax.get_legend_handles_labels()\n",
    "    l = plt.legend(handles[0:2], labels[0:2], loc=1, borderaxespad=0.4)\n",
    "    \n",
    "    LSP = -2*np.sum(np.log(np.delete(p_values,np.where(adjusted_p_values>0.25))))\n",
    "    best_p = np.min(p_values)\n",
    "\n",
    "\n",
    "    print('Number of significant latent variables found: %g' %(len(significant_LVs)) )\n",
    "    print('The latent space performance (LSP) was caluclated to be: %.3f' %LSP)\n",
    "    print('The best latent variable (LV %g) seperates platinum resistant patients from sensitive patients with a p value of %.5f' %(np.argmin(p_values)+1,np.min(p_values)))        "
   ]
  },
  {
   "cell_type": "code",
   "execution_count": null,
   "metadata": {},
   "outputs": [],
   "source": []
  }
 ],
 "metadata": {
  "kernelspec": {
   "display_name": "Python 3",
   "language": "python",
   "name": "python3"
  },
  "language_info": {
   "codemirror_mode": {
    "name": "ipython",
    "version": 3
   },
   "file_extension": ".py",
   "mimetype": "text/x-python",
   "name": "python",
   "nbconvert_exporter": "python",
   "pygments_lexer": "ipython3",
   "version": "3.6.8"
  }
 },
 "nbformat": 4,
 "nbformat_minor": 2
}
